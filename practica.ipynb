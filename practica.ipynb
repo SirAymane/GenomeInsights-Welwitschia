{
 "cells": [
  {
   "attachments": {},
   "cell_type": "markdown",
   "metadata": {},
   "source": [
    "## Práctica Bioinformática"
   ]
  },
  {
   "attachments": {},
   "cell_type": "markdown",
   "metadata": {},
   "source": [
    "    · Aymane El Hanbali Halloum\n",
    "    · Marc Coca Moreno\n",
    "    · Melania Prado Gutierrez\n",
    "    · Siddique Muhammad  "
   ]
  },
  {
   "attachments": {},
   "cell_type": "markdown",
   "metadata": {},
   "source": [
    "### Introducción: objetivos e hipótesis\n",
    "\n",
    "Existe un tipo de planta curiosa que es considerada un fósil viviente dada su longevidad. Welwitschia Mirabilis es una especie monotípica dentro de la família Welwitschia (única en su género). Se estima que algunos especimenes llegan a superar los 1.000 años.\n",
    "\n",
    "El siguiente trabajo tiene por objetivo analizar el genóma de esta planta. Para su análisis, se han obtenido los genómas de 2 especies cercanas más: Ephedra Trifurca y Gnetum Montanum.\n",
    "\n",
    "Todas ellas forman parte del orden de las Gnetales y son únicas en su género.\n",
    "\n",
    "A lo largo del trabajo, se han obtenido sus genómas y se han parseado y analizando biopython. El objetivo es destacar diferencias y similitudes entre Welwitschia Mirabilis y los otros dos especimenes.\n",
    "\n",
    "Para ello, en primer lugar, se elabora una lista de los genes de nuestro especimen objetivo y se clasifican según su grado de coincidencia: coinciden en las tres especies, en alguna o no hay coincidencia.\n",
    "\n",
    "Después..."
   ]
  },
  {
   "attachments": {},
   "cell_type": "markdown",
   "metadata": {},
   "source": [
    "### Datos genómicos: obtención de los GenBank"
   ]
  },
  {
   "cell_type": "code",
   "execution_count": 1,
   "metadata": {},
   "outputs": [
    {
     "name": "stdout",
     "output_type": "stream",
     "text": [
      "welwitschia_mirabilis.gb exported!\n",
      "welwitschia_mirabilis.gb already exists!\n",
      "ephedra_trifurca.gb exported!\n",
      "ephedra_trifurca.gb already exists!\n",
      "gnetum_montanum.gb exported!\n",
      "gnetum_montanum.gb already exists!\n"
     ]
    }
   ],
   "source": [
    "from scripts.Marc.get_gb import get_gb_by_accession\n",
    "from pathlib import Path\n",
    "\n",
    "species: list[dict] = [\n",
    "    {\n",
    "        \"file_name\": \"welwitschia_mirabilis.gb\",\n",
    "        \"accession_id\": \"NC_010654\"\n",
    "    },\n",
    "    {\n",
    "        \"file_name\": \"ephedra_trifurca.gb\",\n",
    "        \"accession_id\": \"NC_065630\"\n",
    "    },\n",
    "    {\n",
    "        \"file_name\": \"gnetum_montanum.gb\",\n",
    "        \"accession_id\": \"NC_021438\"\n",
    "    }\n",
    "]\n",
    "\n",
    "files_path: Path = Path().parent/\"data\"\n",
    "\n",
    "for specie in species:\n",
    "    file_name: str = specie[\"file_name\"]\n",
    "    accession_id: str = specie[\"accession_id\"]\n",
    "\n",
    "    file_path: Path = files_path/file_name\n",
    "\n",
    "    if not file_path.exists():\n",
    "        gb: str = get_gb_by_accession(accession_id)\n",
    "        \n",
    "        with open(file_path, \"w\") as file:\n",
    "            file.write(gb)\n",
    "\n",
    "        print(f\"{file_name} exported!\")\n",
    "\n",
    "    print(f\"{file_name} already exists!\")\n"
   ]
  },
  {
   "attachments": {},
   "cell_type": "markdown",
   "metadata": {},
   "source": []
  },
  {
   "attachments": {},
   "cell_type": "markdown",
   "metadata": {},
   "source": [
    "Cuatro ejemplos de genes en el cloroplastos de las plantas que podemos comparar entre las tres especies escogidas:\n",
    "\n",
    "    Gene psbA (Siddique): Codifica la proteína de la subunidad de la proteína de la fotosíntesis llamada proteína de fotossistema II.\n",
    "\n",
    "    Gene rbcL (Siddique): Codifica la proteína de la subunidad de la cianobacteriana Rubisco, que es la enzima clave en la fotosíntesis.\n",
    "\n",
    "    Gene atpF (Melania): Codifica una subunidad de la ATP sintasa, una enzima que produce ATP a partir de la energía química liberada en la fotosíntesis.\n",
    "\n",
    "    Gene clpP (Melania): Codifica una proteína que juega un papel en el proceso de degradación de proteínas en el cloroplasto.\n",
    "\n",
    "Estos genes y sus productos proteicos son esenciales para el funcionamiento adecuado del cloroplasto y la fotosíntesis en las plantas."
   ]
  }
 ],
 "metadata": {
  "kernelspec": {
   "display_name": "biopy",
   "language": "python",
   "name": "python3"
  },
  "language_info": {
   "codemirror_mode": {
    "name": "ipython",
    "version": 3
   },
   "file_extension": ".py",
   "mimetype": "text/x-python",
   "name": "python",
   "nbconvert_exporter": "python",
   "pygments_lexer": "ipython3",
   "version": "3.11.0"
  },
  "orig_nbformat": 4,
  "vscode": {
   "interpreter": {
    "hash": "f6f5b968173e58857e2dd4f8ad516481ecb3eca17de2495b5dca2e26bcc3de03"
   }
  }
 },
 "nbformat": 4,
 "nbformat_minor": 2
}
